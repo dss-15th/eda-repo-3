{
 "cells": [
  {
   "cell_type": "code",
   "execution_count": 2,
   "metadata": {},
   "outputs": [],
   "source": [
    "df2020 = pd.read_csv('2020supplements.csv')\n",
    "df2019 = pd.read_csv('2019supplements.csv')\n",
    "df2018 = pd.read_csv('2018supplements.csv')\n",
    "df2017 = pd.read_csv('2017supplements.csv')\n",
    "df2016 = pd.read_csv('2016supplements.csv')"
   ]
  },
  {
   "cell_type": "code",
   "execution_count": 3,
   "metadata": {},
   "outputs": [],
   "source": [
    "category_filter = [17, 22, 26, 27, 28]\n",
    "fdf2020 = df2020[df2020.category.isin(category_filter)]\n",
    "fdf2019 = df2019[df2019.category.isin(category_filter)]\n",
    "fdf2018 = df2018[df2018.category.isin(category_filter)]\n",
    "fdf2017 = df2017[df2017.category.isin(category_filter)]\n",
    "fdf2016 = df2016[df2016.category.isin(category_filter)]"
   ]
  },
  {
   "cell_type": "code",
   "execution_count": 4,
   "metadata": {},
   "outputs": [
    {
     "data": {
      "text/plain": [
       "(510, 404, 413, 504, 512)"
      ]
     },
     "execution_count": 4,
     "metadata": {},
     "output_type": "execute_result"
    }
   ],
   "source": [
    "(len(df2020) - len(fdf2020),\n",
    " len(df2019) - len(fdf2019),\n",
    " len(df2018) - len(fdf2018),\n",
    " len(df2017) - len(fdf2017),\n",
    " len(df2016) - len(fdf2016))"
   ]
  },
  {
   "cell_type": "code",
   "execution_count": 5,
   "metadata": {},
   "outputs": [],
   "source": [
    "\n",
    "fdf2020 = fdf2020.drop(columns=['Unnamed: 0'])\n",
    "fdf2019 = fdf2019.drop(columns=['Unnamed: 0'])\n",
    "fdf2018 = fdf2018.drop(columns=['Unnamed: 0'])\n",
    "fdf2017 = fdf2017.drop(columns=['Unnamed: 0'])\n",
    "fdf2016 = fdf2016.drop(columns=['Unnamed: 0'])"
   ]
  },
  {
   "cell_type": "code",
   "execution_count": 6,
   "metadata": {},
   "outputs": [],
   "source": [
    "group20 = fdf2020.groupby('sup_name').sum()\n",
    "group19 = fdf2019.groupby('sup_name').sum()\n",
    "group18 = fdf2018.groupby('sup_name').sum()\n",
    "group17 = fdf2017.groupby('sup_name').sum()\n",
    "group16 = fdf2016.groupby('sup_name').sum()"
   ]
  },
  {
   "cell_type": "code",
   "execution_count": 13,
   "metadata": {},
   "outputs": [
    {
     "data": {
      "text/html": [
       "<div>\n",
       "<style scoped>\n",
       "    .dataframe tbody tr th:only-of-type {\n",
       "        vertical-align: middle;\n",
       "    }\n",
       "\n",
       "    .dataframe tbody tr th {\n",
       "        vertical-align: top;\n",
       "    }\n",
       "\n",
       "    .dataframe thead th {\n",
       "        text-align: right;\n",
       "    }\n",
       "</style>\n",
       "<table border=\"1\" class=\"dataframe\">\n",
       "  <thead>\n",
       "    <tr style=\"text-align: right;\">\n",
       "      <th></th>\n",
       "      <th>category</th>\n",
       "      <th>view_count</th>\n",
       "      <th>like_count</th>\n",
       "      <th>dislike_count</th>\n",
       "      <th>com_count</th>\n",
       "    </tr>\n",
       "    <tr>\n",
       "      <th>sup_name</th>\n",
       "      <th></th>\n",
       "      <th></th>\n",
       "      <th></th>\n",
       "      <th></th>\n",
       "      <th></th>\n",
       "    </tr>\n",
       "  </thead>\n",
       "  <tbody>\n",
       "    <tr>\n",
       "      <th>Melatonin</th>\n",
       "      <td>1608</td>\n",
       "      <td>62694272</td>\n",
       "      <td>29845</td>\n",
       "      <td>827</td>\n",
       "      <td>4715</td>\n",
       "    </tr>\n",
       "    <tr>\n",
       "      <th>Vitamin C</th>\n",
       "      <td>2243</td>\n",
       "      <td>57351893</td>\n",
       "      <td>709181</td>\n",
       "      <td>22672</td>\n",
       "      <td>68141</td>\n",
       "    </tr>\n",
       "    <tr>\n",
       "      <th>Collagen</th>\n",
       "      <td>2230</td>\n",
       "      <td>28888339</td>\n",
       "      <td>400339</td>\n",
       "      <td>10125</td>\n",
       "      <td>47680</td>\n",
       "    </tr>\n",
       "    <tr>\n",
       "      <th>Vitamin D</th>\n",
       "      <td>2287</td>\n",
       "      <td>27243324</td>\n",
       "      <td>684566</td>\n",
       "      <td>18925</td>\n",
       "      <td>105459</td>\n",
       "    </tr>\n",
       "    <tr>\n",
       "      <th>Zinc</th>\n",
       "      <td>2094</td>\n",
       "      <td>23137758</td>\n",
       "      <td>414608</td>\n",
       "      <td>17334</td>\n",
       "      <td>45163</td>\n",
       "    </tr>\n",
       "  </tbody>\n",
       "</table>\n",
       "</div>"
      ],
      "text/plain": [
       "           category  view_count  like_count  dislike_count  com_count\n",
       "sup_name                                                             \n",
       "Melatonin      1608    62694272       29845            827       4715\n",
       "Vitamin C      2243    57351893      709181          22672      68141\n",
       "Collagen       2230    28888339      400339          10125      47680\n",
       "Vitamin D      2287    27243324      684566          18925     105459\n",
       "Zinc           2094    23137758      414608          17334      45163"
      ]
     },
     "execution_count": 13,
     "metadata": {},
     "output_type": "execute_result"
    }
   ],
   "source": [
    "group20.sort_values(by=['view_count'],ascending=False).head()"
   ]
  },
  {
   "cell_type": "code",
   "execution_count": null,
   "metadata": {},
   "outputs": [],
   "source": [
    "fdf2019 = fdf2019.drop(columns=['Unnamed: 0'])\n",
    "gdf2= fdf2019.groupby('sup_name').sum()\n",
    "gdf2.sort_values(by=['view_count'],ascending=False)"
   ]
  },
  {
   "cell_type": "code",
   "execution_count": null,
   "metadata": {},
   "outputs": [],
   "source": []
  },
  {
   "cell_type": "code",
   "execution_count": null,
   "metadata": {},
   "outputs": [],
   "source": []
  },
  {
   "cell_type": "code",
   "execution_count": null,
   "metadata": {},
   "outputs": [],
   "source": []
  },
  {
   "cell_type": "code",
   "execution_count": null,
   "metadata": {},
   "outputs": [],
   "source": []
  },
  {
   "cell_type": "code",
   "execution_count": null,
   "metadata": {},
   "outputs": [],
   "source": []
  },
  {
   "cell_type": "code",
   "execution_count": null,
   "metadata": {},
   "outputs": [],
   "source": []
  },
  {
   "cell_type": "code",
   "execution_count": null,
   "metadata": {},
   "outputs": [],
   "source": []
  },
  {
   "cell_type": "code",
   "execution_count": null,
   "metadata": {},
   "outputs": [],
   "source": []
  },
  {
   "cell_type": "code",
   "execution_count": null,
   "metadata": {},
   "outputs": [],
   "source": []
  },
  {
   "cell_type": "code",
   "execution_count": null,
   "metadata": {},
   "outputs": [],
   "source": []
  },
  {
   "cell_type": "code",
   "execution_count": null,
   "metadata": {},
   "outputs": [],
   "source": []
  },
  {
   "cell_type": "code",
   "execution_count": null,
   "metadata": {},
   "outputs": [],
   "source": []
  },
  {
   "cell_type": "code",
   "execution_count": null,
   "metadata": {},
   "outputs": [],
   "source": []
  }
 ],
 "metadata": {
  "kernelspec": {
   "display_name": "Python 3",
   "language": "python",
   "name": "python3"
  },
  "language_info": {
   "codemirror_mode": {
    "name": "ipython",
    "version": 3
   },
   "file_extension": ".py",
   "mimetype": "text/x-python",
   "name": "python",
   "nbconvert_exporter": "python",
   "pygments_lexer": "ipython3",
   "version": "3.8.3"
  }
 },
 "nbformat": 4,
 "nbformat_minor": 4
}
