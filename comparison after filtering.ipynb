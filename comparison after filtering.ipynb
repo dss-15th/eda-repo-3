{
 "cells": [
  {
   "cell_type": "code",
   "execution_count": null,
   "metadata": {},
   "outputs": [],
   "source": []
  },
  {
   "cell_type": "code",
   "execution_count": 2,
   "metadata": {},
   "outputs": [],
   "source": [
    "us = pd.read_csv('5years_supplements_total(e_duplicate).csv')\n",
    "kr = pd.read_csv('5years_supplements_KOR.csv')"
   ]
  },
  {
   "cell_type": "code",
   "execution_count": 3,
   "metadata": {},
   "outputs": [],
   "source": [
    "us['year']= us.year.astype(str)\n",
    "kr['year']= kr.year.astype(str)"
   ]
  },
  {
   "cell_type": "code",
   "execution_count": 4,
   "metadata": {},
   "outputs": [],
   "source": [
    "category_filter = [17, 22, 26, 27, 28]\n",
    "filtered_us = us[us.category.isin(category_filter)]\n",
    "filtered_kr = kr[kr.category.isin(category_filter)]"
   ]
  },
  {
   "cell_type": "code",
   "execution_count": 5,
   "metadata": {},
   "outputs": [],
   "source": [
    "us2020 = us[us['year'] == '2020']\n",
    "us2019 = us[us['year'] == '2019']\n",
    "us2018 = us[us['year'] == '2018']\n",
    "us2017 = us[us['year'] == '2017']\n",
    "us2016 = us[us['year'] == '2016']\n",
    "kr2020 = kr[kr['year'] == '2020']\n",
    "kr2019 = kr[kr['year'] == '2019']\n",
    "kr2018 = kr[kr['year'] == '2018']\n",
    "kr2017 = kr[kr['year'] == '2017']\n",
    "kr2016 = kr[kr['year'] == '2016']"
   ]
  },
  {
   "cell_type": "code",
   "execution_count": 6,
   "metadata": {},
   "outputs": [],
   "source": [
    "filtered_us2020 = filtered_us[filtered_us['year'] == '2020']\n",
    "filtered_us2019 = filtered_us[filtered_us['year'] == '2019']\n",
    "filtered_us2018 = filtered_us[filtered_us['year'] == '2018']\n",
    "filtered_us2017 = filtered_us[filtered_us['year'] == '2017']\n",
    "filtered_us2016 = filtered_us[filtered_us['year'] == '2016']\n",
    "filtered_kr2020 = filtered_kr[filtered_kr['year'] == '2020']\n",
    "filtered_kr2019 = filtered_kr[filtered_kr['year'] == '2019']\n",
    "filtered_kr2018 = filtered_kr[filtered_kr['year'] == '2018']\n",
    "filtered_kr2017 = filtered_kr[filtered_kr['year'] == '2017']\n",
    "filtered_kr2016 = filtered_kr[filtered_kr['year'] == '2016']"
   ]
  },
  {
   "cell_type": "code",
   "execution_count": 44,
   "metadata": {},
   "outputs": [
    {
     "data": {
      "text/html": [
       "<div>\n",
       "<style scoped>\n",
       "    .dataframe tbody tr th:only-of-type {\n",
       "        vertical-align: middle;\n",
       "    }\n",
       "\n",
       "    .dataframe tbody tr th {\n",
       "        vertical-align: top;\n",
       "    }\n",
       "\n",
       "    .dataframe thead th {\n",
       "        text-align: right;\n",
       "    }\n",
       "</style>\n",
       "<table border=\"1\" class=\"dataframe\">\n",
       "  <thead>\n",
       "    <tr style=\"text-align: right;\">\n",
       "      <th></th>\n",
       "      <th>category</th>\n",
       "      <th>view_count</th>\n",
       "      <th>like_count</th>\n",
       "      <th>dislike_count</th>\n",
       "      <th>com_count</th>\n",
       "    </tr>\n",
       "    <tr>\n",
       "      <th>sup_name</th>\n",
       "      <th></th>\n",
       "      <th></th>\n",
       "      <th></th>\n",
       "      <th></th>\n",
       "      <th></th>\n",
       "    </tr>\n",
       "  </thead>\n",
       "  <tbody>\n",
       "    <tr>\n",
       "      <th>유산균</th>\n",
       "      <td>9556</td>\n",
       "      <td>67755635</td>\n",
       "      <td>389194</td>\n",
       "      <td>11274</td>\n",
       "      <td>30248</td>\n",
       "    </tr>\n",
       "    <tr>\n",
       "      <th>코코넛 오일</th>\n",
       "      <td>9812</td>\n",
       "      <td>53821366</td>\n",
       "      <td>379642</td>\n",
       "      <td>30549</td>\n",
       "      <td>24554</td>\n",
       "    </tr>\n",
       "    <tr>\n",
       "      <th>콜라겐</th>\n",
       "      <td>8931</td>\n",
       "      <td>49552201</td>\n",
       "      <td>190838</td>\n",
       "      <td>8353</td>\n",
       "      <td>18074</td>\n",
       "    </tr>\n",
       "  </tbody>\n",
       "</table>\n",
       "</div>"
      ],
      "text/plain": [
       "          category  view_count  like_count  dislike_count  com_count\n",
       "sup_name                                                            \n",
       "유산균           9556    67755635      389194          11274      30248\n",
       "코코넛 오일        9812    53821366      379642          30549      24554\n",
       "콜라겐           8931    49552201      190838           8353      18074"
      ]
     },
     "execution_count": 44,
     "metadata": {},
     "output_type": "execute_result"
    }
   ],
   "source": [
    "filtered_kr.groupby('sup_name').sum().sort_values(by=[\"view_count\"],ascending=False).head(3)"
   ]
  },
  {
   "cell_type": "code",
   "execution_count": 41,
   "metadata": {},
   "outputs": [],
   "source": [
    "nonfilter_us = np.array([len(us2020),len(us2019),len(us2018),len(us2017),len(us2016)])"
   ]
  },
  {
   "cell_type": "code",
   "execution_count": 42,
   "metadata": {},
   "outputs": [],
   "source": [
    "nonfilter_kr = np.array([len(kr2020),len(kr2019),len(kr2018),len(kr2017),len(kr2016)])"
   ]
  },
  {
   "cell_type": "code",
   "execution_count": 43,
   "metadata": {},
   "outputs": [],
   "source": [
    "filter_us = np.array([len(filtered_us2020),len(filtered_us2019),len(filtered_us2018),len(filtered_us2017),len(filtered_us2016)])"
   ]
  },
  {
   "cell_type": "code",
   "execution_count": 44,
   "metadata": {},
   "outputs": [],
   "source": [
    "filter_kr = np.array([len(filtered_kr2020),len(filtered_kr2019),len(filtered_kr2018),len(filtered_kr2017),\\\n",
    "             len(filtered_kr2016)])"
   ]
  },
  {
   "cell_type": "code",
   "execution_count": 45,
   "metadata": {},
   "outputs": [
    {
     "data": {
      "text/plain": [
       "array([3248, 3113, 3078, 2971, 2933])"
      ]
     },
     "execution_count": 45,
     "metadata": {},
     "output_type": "execute_result"
    }
   ],
   "source": [
    "nonfilter_us"
   ]
  },
  {
   "cell_type": "code",
   "execution_count": 46,
   "metadata": {},
   "outputs": [
    {
     "data": {
      "text/plain": [
       "array([2652, 2653, 2596, 2421, 2380])"
      ]
     },
     "execution_count": 46,
     "metadata": {},
     "output_type": "execute_result"
    }
   ],
   "source": [
    "filter_us"
   ]
  },
  {
   "cell_type": "code",
   "execution_count": 47,
   "metadata": {},
   "outputs": [
    {
     "data": {
      "text/plain": [
       "array([2200, 2154, 1608, 1308, 1230])"
      ]
     },
     "execution_count": 47,
     "metadata": {},
     "output_type": "execute_result"
    }
   ],
   "source": [
    "nonfilter_kr"
   ]
  },
  {
   "cell_type": "code",
   "execution_count": 65,
   "metadata": {},
   "outputs": [
    {
     "data": {
      "text/plain": [
       "array([ 757,  829, 1149, 1789, 1756])"
      ]
     },
     "execution_count": 65,
     "metadata": {},
     "output_type": "execute_result"
    }
   ],
   "source": [
    "filter_kr[::-1 ]"
   ]
  },
  {
   "cell_type": "code",
   "execution_count": 58,
   "metadata": {},
   "outputs": [],
   "source": [
    "year = ['2020','2019','2018','2017','2016']"
   ]
  },
  {
   "cell_type": "code",
   "execution_count": 75,
   "metadata": {},
   "outputs": [],
   "source": [
    "us_ratio = np.round(filter_us / nonfilter_us,2) * 100"
   ]
  },
  {
   "cell_type": "code",
   "execution_count": 76,
   "metadata": {},
   "outputs": [],
   "source": [
    "kr_ratio = np.round(filter_kr/ nonfilter_kr,2) * 100"
   ]
  },
  {
   "cell_type": "code",
   "execution_count": 93,
   "metadata": {},
   "outputs": [],
   "source": [
    "year_ratio = pd.DataFrame({\n",
    "    'Year': year[::-1],\n",
    "    'us_ratio':us_ratio[::-1],\n",
    "    'kr_ratio':kr_ratio[::-1]\n",
    "})"
   ]
  },
  {
   "cell_type": "code",
   "execution_count": 94,
   "metadata": {},
   "outputs": [
    {
     "data": {
      "text/plain": [
       "<matplotlib.axes._subplots.AxesSubplot at 0x192e2efad00>"
      ]
     },
     "execution_count": 94,
     "metadata": {},
     "output_type": "execute_result"
    },
    {
     "data": {
      "image/png": "[encoded data removed]",
      "text/plain": [
       "<Figure size 432x288 with 1 Axes>"
      ]
     },
     "metadata": {},
     "output_type": "display_data"
    }
   ],
   "source": [
    "sns.barplot(x='Year',y='us_ratio',data=year_ratio)"
   ]
  },
  {
   "cell_type": "code",
   "execution_count": 81,
   "metadata": {},
   "outputs": [
    {
     "data": {
      "text/plain": [
       "<matplotlib.axes._subplots.AxesSubplot at 0x192e09e4340>"
      ]
     },
     "execution_count": 81,
     "metadata": {},
     "output_type": "execute_result"
    },
    {
     "data": {
      "image/png": "[encoded data removed]",
      "text/plain": [
       "<Figure size 432x288 with 1 Axes>"
      ]
     },
     "metadata": {},
     "output_type": "display_data"
    }
   ],
   "source": [
    "sns.barplot(x='Year',y='kr_ratio',data=year_ratio)"
   ]
  },
  {
   "cell_type": "code",
   "execution_count": null,
   "metadata": {},
   "outputs": [],
   "source": []
  }
 ],
 "metadata": {
  "kernelspec": {
   "display_name": "Python 3",
   "language": "python",
   "name": "python3"
  },
  "language_info": {
   "codemirror_mode": {
    "name": "ipython",
    "version": 3
   },
   "file_extension": ".py",
   "mimetype": "text/x-python",
   "name": "python",
   "nbconvert_exporter": "python",
   "pygments_lexer": "ipython3",
   "version": "3.8.3"
  }
 },
 "nbformat": 4,
 "nbformat_minor": 4
}
