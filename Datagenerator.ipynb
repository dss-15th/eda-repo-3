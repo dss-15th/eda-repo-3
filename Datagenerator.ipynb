{
 "cells": [
  {
   "cell_type": "code",
   "execution_count": 10,
   "metadata": {
    "inputHidden": false,
    "outputHidden": false
   },
   "outputs": [],
   "source": [
    "from googleapiclient.discovery import build\n",
    "from youtube_api import YouTubeDataAPI\n",
    "import json\n",
    "import time"
   ]
  },
  {
   "cell_type": "code",
   "execution_count": 19,
   "metadata": {
    "inputHidden": false,
    "outputHidden": false
   },
   "outputs": [],
   "source": [
    "\n",
    "# get my_api from API_Key.py\n",
    "my_api = 'API_KEY'"
   ]
  },
  {
   "cell_type": "code",
   "execution_count": 20,
   "metadata": {
    "inputHidden": false,
    "outputHidden": false
   },
   "outputs": [],
   "source": [
    "# apikey 인식\n",
    "youtube = build('youtube', 'v3', developerKey = my_api)\n",
    "yt = YouTubeDataAPI(my_api)"
   ]
  },
  {
   "cell_type": "code",
   "execution_count": 21,
   "metadata": {},
   "outputs": [],
   "source": [
    "# 함수\n",
    "def videodata (id_list):\n",
    "    title = []\n",
    "    category = []\n",
    "    desc = []\n",
    "    view = []\n",
    "    like = []\n",
    "    dislike = []\n",
    "    comment = []\n",
    "    tag = []\n",
    "    for data in id_list:\n",
    "        datas = yt.get_video_metadata(data)\n",
    "        title.append(datas['video_title'])\n",
    "        category.append(datas['video_category'])\n",
    "        desc.append(datas['video_description'].strip())\n",
    "        view.append(datas['video_view_count'])\n",
    "        like.append(datas['video_like_count'])\n",
    "        dislike.append(datas['video_dislike_count'])\n",
    "        comment.append(datas['video_comment_count'])\n",
    "        tag.append(datas['video_tags'])\n",
    "    df = pd.DataFrame({\n",
    "    'category':category,\n",
    "    'description':desc,\n",
    "    'view_count':view,\n",
    "    'like_count':like,\n",
    "    'dislike_count':dislike,\n",
    "    'com_count':comment,\n",
    "    'tags':tag\n",
    "    })\n",
    "    df.fillna(0,inplace = True)\n",
    "    return df"
   ]
  },
  {
   "cell_type": "code",
   "execution_count": 93,
   "metadata": {
    "inputHidden": false,
    "outputHidden": false
   },
   "outputs": [],
   "source": [
    "# 테스트\n",
    "res1 = youtube.search().list(\n",
    "    q = 'vitamin', \n",
    "    maxResults = 5,\n",
    "    order = 'viewCount',\n",
    "    publishedBefore = '2020-01-01T00:00:00Z',\n",
    "    publishedAfter = '2019-01-01T00:00:00Z',\n",
    "    regionCode = 'US',\n",
    "    relevanceLanguage = 'en',\n",
    "    part = 'snippet', \n",
    "    type = 'video'\n",
    "\n",
    ").execute()"
   ]
  },
  {
   "cell_type": "code",
   "execution_count": 4,
   "metadata": {},
   "outputs": [],
   "source": [
    "sup_list = ['Milk thistle', 'Creatine', 'Curcumin', 'Omega 3',\n",
    "'Testosterone Boosters','Vitamin C','Vitamin D','CoQ10',\n",
    "'Multivitamin','Zinc','Probiotic','B-complex','Calcium',\n",
    "'Melatonin','Vitamin K','Collagen','Coconut oil','Lutein','Nicotine',\n",
    "'Ashwagandha','Maca','L-carnitine','Kombucha','Krill oil',\n",
    "'Hibiscus', 'Amino acid','Vitamin A','Vitamin B']"
   ]
  },
  {
   "cell_type": "code",
   "execution_count": 14,
   "metadata": {},
   "outputs": [],
   "source": [
    "k_sup_list = ['밀크씨슬', '크레아틴','커큐민', '오메가3', '정력제', '비타민 C', '비타민 D', '코큐텐',\n",
    "              '멀티 비타민', '아연', '유산균', 'B 복합체', '칼슘', '멜라토닌', '비타민 K', '콜라겐',\n",
    "            '코코넛 오일', '루테인', '니코틴', '아쉬와간다', '마카', 'L-카르니틴', '콤부차', '크릴오일',\n",
    "            '히비스커스', '아미노산', '비타민 A', '비타민 B']"
   ]
  },
  {
   "cell_type": "code",
   "execution_count": 22,
   "metadata": {},
   "outputs": [
    {
     "data": {
      "text/plain": [
       "(1308, 1308)"
      ]
     },
     "execution_count": 22,
     "metadata": {},
     "output_type": "execute_result"
    }
   ],
   "source": [
    "#acquiring videoid\n",
    "videoid = []\n",
    "pdata = []\n",
    "name = []\n",
    "nextpagetoken = []\n",
    "# insert name of supplements\n",
    "for data in k_sup_list:\n",
    "    res = youtube.search().list(q = data, maxResults = 50,\n",
    "    order = 'viewCount', publishedBefore = '2018-01-01T00:00:00Z',\n",
    "    publishedAfter = '2017-01-01T00:00:00Z',regionCode = 'KR',\n",
    "    relevanceLanguage = 'ko', part = 'snippet', type = 'video').execute()\n",
    "    \n",
    "    for idx in range(len(res['items'])):\n",
    "        videoid.append(res['items'][idx]['id']['videoId'])\n",
    "        pdata.append(res['items'][idx]['snippet']['publishedAt'])\n",
    "        name.append(data)\n",
    "    \n",
    "    res1 = youtube.search().list(q = data, maxResults = 50,\n",
    "    order = 'viewCount', publishedBefore = '2018-01-01T00:00:00Z',\n",
    "    publishedAfter = '2017-01-01T00:00:00Z',regionCode = 'KR',\n",
    "    relevanceLanguage = 'ko', part = 'snippet', \n",
    "    type = 'video',pageToken = res['nextPageToken']).execute()\n",
    "    \n",
    "    for idx in range(len(res1['items'])):\n",
    "        videoid.append(res1['items'][idx]['id']['videoId'])\n",
    "        pdata.append(res1['items'][idx]['snippet']['publishedAt'])\n",
    "        name.append(data)\n",
    "        nextpagetoken.append(res1['nextPageToken'])\n",
    "    \n",
    "len(videoid),len(pdata)"
   ]
  },
  {
   "cell_type": "code",
   "execution_count": 23,
   "metadata": {},
   "outputs": [],
   "source": [
    "#making df\n",
    "sup_df = videodata(videoid)\n",
    "sup_df['videoid'] = videoid\n",
    "sup_df['sup_name'] = name"
   ]
  },
  {
   "cell_type": "code",
   "execution_count": 24,
   "metadata": {},
   "outputs": [],
   "source": [
    "#save\n",
    "sup_df.to_csv('2017supplements_KOR.csv',sep=',',encoding='UTF-8', index=False)"
   ]
  },
  {
   "cell_type": "code",
   "execution_count": null,
   "metadata": {},
   "outputs": [],
   "source": []
  }
 ],
 "metadata": {
  "kernel_info": {
   "name": "python3"
  },
  "kernelspec": {
   "display_name": "Python 3",
   "language": "python",
   "name": "python3"
  },
  "language_info": {
   "codemirror_mode": {
    "name": "ipython",
    "version": 3
   },
   "file_extension": ".py",
   "mimetype": "text/x-python",
   "name": "python",
   "nbconvert_exporter": "python",
   "pygments_lexer": "ipython3",
   "version": "3.8.3"
  },
  "nteract": {
   "version": "0.12.3"
  }
 },
 "nbformat": 4,
 "nbformat_minor": 4
}
